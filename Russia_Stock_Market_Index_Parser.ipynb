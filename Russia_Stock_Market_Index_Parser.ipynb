{
  "nbformat": 4,
  "nbformat_minor": 0,
  "metadata": {
    "colab": {
      "provenance": []
    },
    "kernelspec": {
      "name": "python3",
      "display_name": "Python 3"
    },
    "language_info": {
      "name": "python"
    }
  },
  "cells": [
    {
      "cell_type": "code",
      "source": [
        "!pip install requests\n",
        "!pip install bs4\n",
        "!pip install pandas"
      ],
      "metadata": {
        "colab": {
          "base_uri": "https://localhost:8080/"
        },
        "id": "l5WzF6MvkEv-",
        "outputId": "3faaee2b-175a-41c0-ae43-725825ceb7a0"
      },
      "execution_count": 46,
      "outputs": [
        {
          "output_type": "stream",
          "name": "stdout",
          "text": [
            "Requirement already satisfied: requests in /usr/local/lib/python3.11/dist-packages (2.32.3)\n",
            "Requirement already satisfied: charset-normalizer<4,>=2 in /usr/local/lib/python3.11/dist-packages (from requests) (3.4.1)\n",
            "Requirement already satisfied: idna<4,>=2.5 in /usr/local/lib/python3.11/dist-packages (from requests) (3.10)\n",
            "Requirement already satisfied: urllib3<3,>=1.21.1 in /usr/local/lib/python3.11/dist-packages (from requests) (2.3.0)\n",
            "Requirement already satisfied: certifi>=2017.4.17 in /usr/local/lib/python3.11/dist-packages (from requests) (2025.1.31)\n",
            "Collecting bs4\n",
            "  Downloading bs4-0.0.2-py2.py3-none-any.whl.metadata (411 bytes)\n",
            "Requirement already satisfied: beautifulsoup4 in /usr/local/lib/python3.11/dist-packages (from bs4) (4.13.3)\n",
            "Requirement already satisfied: soupsieve>1.2 in /usr/local/lib/python3.11/dist-packages (from beautifulsoup4->bs4) (2.6)\n",
            "Requirement already satisfied: typing-extensions>=4.0.0 in /usr/local/lib/python3.11/dist-packages (from beautifulsoup4->bs4) (4.12.2)\n",
            "Downloading bs4-0.0.2-py2.py3-none-any.whl (1.2 kB)\n",
            "Installing collected packages: bs4\n",
            "Successfully installed bs4-0.0.2\n",
            "Requirement already satisfied: pandas in /usr/local/lib/python3.11/dist-packages (2.2.2)\n",
            "Requirement already satisfied: numpy>=1.23.2 in /usr/local/lib/python3.11/dist-packages (from pandas) (1.26.4)\n",
            "Requirement already satisfied: python-dateutil>=2.8.2 in /usr/local/lib/python3.11/dist-packages (from pandas) (2.8.2)\n",
            "Requirement already satisfied: pytz>=2020.1 in /usr/local/lib/python3.11/dist-packages (from pandas) (2025.1)\n",
            "Requirement already satisfied: tzdata>=2022.7 in /usr/local/lib/python3.11/dist-packages (from pandas) (2025.1)\n",
            "Requirement already satisfied: six>=1.5 in /usr/local/lib/python3.11/dist-packages (from python-dateutil>=2.8.2->pandas) (1.17.0)\n"
          ]
        }
      ]
    },
    {
      "cell_type": "code",
      "source": [
        "import requests\n",
        "from bs4 import BeautifulSoup\n",
        "import pandas as pd\n",
        "from datetime import datetime\n",
        "\n",
        "def scrape_tradingeconomics(url):\n",
        "    headers = {\n",
        "        \"User-Agent\": \"Mozilla/5.0 (Windows NT 10.0; Win64; x64) AppleWebKit/537.36 (KHTML, like Gecko) Chrome/91.0.4472.124 Safari/537.36\"\n",
        "    }\n",
        "    response = requests.get(url, headers=headers)\n",
        "    soup = BeautifulSoup(response.text, 'html.parser')\n",
        "\n",
        "    # Target the main stock market table (structure may change)\n",
        "    table = soup.find(\"table\", {\"class\": \"table table-hover sortable-theme-minimal table-heatmap table-striped\"})\n",
        "    rows = table.find_all(\"tr\")[1:]  # Skip header\n",
        "\n",
        "    data = []\n",
        "    for row in rows:\n",
        "        cols = row.find_all(\"td\")\n",
        "        if len(cols) >= 4:\n",
        "            # Extract components (e.g., MOEX Russia Index)\n",
        "            component = cols[0].text.strip()\n",
        "            price = cols[1].text.strip()\n",
        "\n",
        "            # Append data (MCap may not be available on this page)\n",
        "            data.append({\n",
        "                \"Company\": component,\n",
        "                \"Price\": price,\n",
        "                \"Day\": cols[4].text.strip(),\n",
        "                \"Year\": cols[5].text.strip(),\n",
        "                \"MCap\": cols[6].text.strip(),\n",
        "                \"Date\": cols[7].text.strip()\n",
        "            })\n",
        "\n",
        "    return pd.DataFrame(data)\n",
        "\n",
        "# Example usage\n",
        "url = \"https://tradingeconomics.com/russia/stock-market\"\n",
        "try:\n",
        "    df = scrape_tradingeconomics(url)\n",
        "    print(df)\n",
        "    df.to_json(\"data.json\", orient=\"records\", indent=4)\n",
        "except Exception as e:\n",
        "    print(f\"Error: {e}. Check if the HTML structure changed.\")"
      ],
      "metadata": {
        "colab": {
          "base_uri": "https://localhost:8080/"
        },
        "id": "uaOq4uk-Icu7",
        "outputId": "c5d94711-fb93-4c5e-a31c-007b09b5ff6e"
      },
      "execution_count": 47,
      "outputs": [
        {
          "output_type": "stream",
          "name": "stdout",
          "text": [
            "                               Company      Price     Day     Year     MCap  \\\n",
            "0                             Sberbank     320.95   1.06%    6.66%   80.15B   \n",
            "1                              Rosneft     529.25   0.37%  -10.03%   65.17B   \n",
            "2                               Lukoil   7,209.00   0.33%   -4.35%   54.76B   \n",
            "3                              Gazprom     170.06  -0.60%    4.34%   47.07B   \n",
            "4                              Novatek   1,263.20  -1.70%  -10.90%    45.3B   \n",
            "..                                 ...        ...     ...      ...      ...   \n",
            "60                   Akb Primor'ye Pao  34,800.00   1.16%   -3.33%  100.44M   \n",
            "61                       Obyedinennaya       0.65  -0.15%  -54.08%    32.9M   \n",
            "62                        Rusolovo Pao       0.81   1.61%  -34.66%   27.96M   \n",
            "63                        Kazan Sintez      89.50  -1.32%  -17.36%   17.62M   \n",
            "64  Rkk Energiya IM. S.P. Koroleva Pao  21,550.00  -0.23%  -10.10%     1.5M   \n",
            "\n",
            "      Date  \n",
            "0   Mar/11  \n",
            "1   Mar/11  \n",
            "2   Mar/11  \n",
            "3   Mar/11  \n",
            "4   Mar/11  \n",
            "..     ...  \n",
            "60  Mar/11  \n",
            "61  Mar/11  \n",
            "62  Mar/11  \n",
            "63  Mar/11  \n",
            "64  Mar/11  \n",
            "\n",
            "[65 rows x 6 columns]\n"
          ]
        }
      ]
    }
  ]
}